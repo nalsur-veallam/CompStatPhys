{
 "cells": [
  {
   "cell_type": "code",
   "execution_count": 1,
   "id": "designing-separation",
   "metadata": {},
   "outputs": [],
   "source": [
    "from pathlib import Path\n",
    "import os\n",
    "\n",
    "\n",
    "import numpy as np\n",
    "import pandas as pd\n",
    "import matplotlib.pyplot as plt"
   ]
  },
  {
   "cell_type": "code",
   "execution_count": 2,
   "id": "portable-fantasy",
   "metadata": {},
   "outputs": [],
   "source": [
    "means = []\n",
    "number = []\n",
    "for ti_energy_name in os.listdir(Path().cwd()):\n",
    "    if ti_energy_name.startswith(\"ti/ti_energy\"):\n",
    "        ti_energy = np.loadtxt(ti_energy_name, skiprows=1)\n",
    "        mean = np.mean(ti_energy[:, 1])\n",
    "        means.append(round(mean, 4))\n",
    "        number.append(int(ti_energy_name[-6:-4].replace(\".\", \"\")))"
   ]
  },
  {
   "cell_type": "code",
   "execution_count": 3,
   "id": "compliant-grill",
   "metadata": {},
   "outputs": [],
   "source": [
    "result = pd.DataFrame({'mean': means, \n",
    "                      'name': number\n",
    "                      })"
   ]
  },
  {
   "cell_type": "code",
   "execution_count": 4,
   "id": "instrumental-temperature",
   "metadata": {},
   "outputs": [],
   "source": [
    "result.sort_values(by='name', ignore_index=True, inplace=True)"
   ]
  },
  {
   "cell_type": "code",
   "execution_count": 5,
   "id": "literary-cincinnati",
   "metadata": {},
   "outputs": [
    {
     "data": {
      "text/html": [
       "<div>\n",
       "<style scoped>\n",
       "    .dataframe tbody tr th:only-of-type {\n",
       "        vertical-align: middle;\n",
       "    }\n",
       "\n",
       "    .dataframe tbody tr th {\n",
       "        vertical-align: top;\n",
       "    }\n",
       "\n",
       "    .dataframe thead th {\n",
       "        text-align: right;\n",
       "    }\n",
       "</style>\n",
       "<table border=\"1\" class=\"dataframe\">\n",
       "  <thead>\n",
       "    <tr style=\"text-align: right;\">\n",
       "      <th></th>\n",
       "      <th>mean</th>\n",
       "      <th>name</th>\n",
       "    </tr>\n",
       "  </thead>\n",
       "  <tbody>\n",
       "  </tbody>\n",
       "</table>\n",
       "</div>"
      ],
      "text/plain": [
       "Empty DataFrame\n",
       "Columns: [mean, name]\n",
       "Index: []"
      ]
     },
     "execution_count": 5,
     "metadata": {},
     "output_type": "execute_result"
    }
   ],
   "source": [
    "result"
   ]
  },
  {
   "cell_type": "markdown",
   "id": "verified-charleston",
   "metadata": {},
   "source": [
    "# Calculate integral"
   ]
  },
  {
   "cell_type": "code",
   "execution_count": 6,
   "id": "robust-constant",
   "metadata": {},
   "outputs": [],
   "source": [
    "N_atoms = 512\n",
    "c = 1e-5\n",
    "N = 15"
   ]
  },
  {
   "cell_type": "code",
   "execution_count": 7,
   "id": "impressive-roller",
   "metadata": {},
   "outputs": [],
   "source": [
    "nodes = np.array([0.99573, 0.974554, 0.93243, 0.8707658, 0.79304, 0.70292255,\n",
    "                0.603892, 0.5, 0.396105,0.29707, 0.206956, 0.129234, 0.067567, 0.025446, 0.004272])\n",
    "\n",
    "weights = np.array([0.0229353, 0.063092, 0.104790,\n",
    "                    0.1406532, 0.169004, 0.190350,\n",
    "                    0.2044329, 0.209482, 0.204432,\n",
    "                    0.1903505, 0.169004, 0.140653,\n",
    "                    0.1047900, 0.063092, 0.022935])\n",
    "\n",
    "weights_gauss = np.array([0.1294849, 0.279705, 0.381830, \n",
    "                          0.4179591, 0.381830, 0.279705, 0.129484])"
   ]
  },
  {
   "cell_type": "code",
   "execution_count": 8,
   "id": "systematic-fellow",
   "metadata": {},
   "outputs": [],
   "source": [
    "lambda_range = np.log(1+c)-np.log(c)\n",
    "lambdas = nodes*lambda_range + np.log(c)"
   ]
  },
  {
   "cell_type": "code",
   "execution_count": 10,
   "id": "interpreted-capture",
   "metadata": {},
   "outputs": [],
   "source": [
    "dE = []\n",
    "for i in range(N):\n",
    "    E = result['mean'].iloc[i]\n",
    "    dE.append(E*np.exp(lambdas[i])/(np.exp(lambdas[i]) - c))"
   ]
  },
  {
   "cell_type": "markdown",
   "id": "economic-canada",
   "metadata": {},
   "source": [
    "# Calculate integrals"
   ]
  },
  {
   "cell_type": "code",
   "execution_count": 14,
   "id": "fluid-broad",
   "metadata": {},
   "outputs": [
    {
     "name": "stdout",
     "output_type": "stream",
     "text": [
      "Интеграл Кронрод: -0.10118207402268582\n",
      "Интеграл Гаусс: -0.19724925133018092\n"
     ]
    }
   ],
   "source": [
    "I_kron = np.sum(weights*dE)*lambda_range/2\n",
    "I_gauss = np.sum(weights_gauss*dE[1::2])*lambda_range/2\n",
    "print('Интеграл Кронрод:', I_kron)\n",
    "print('Интеграл Гаусс:', I_gauss)"
   ]
  },
  {
   "cell_type": "markdown",
   "id": "prescribed-tracy",
   "metadata": {},
   "source": [
    "# Widom"
   ]
  },
  {
   "cell_type": "code",
   "execution_count": 15,
   "id": "desperate-claim",
   "metadata": {},
   "outputs": [],
   "source": [
    "widom_data = np.loadtxt('fluid_widom_main.log', skiprows=1)"
   ]
  },
  {
   "cell_type": "code",
   "execution_count": 24,
   "id": "partial-despite",
   "metadata": {},
   "outputs": [],
   "source": [
    "average_mu = widom_data[:, -1].mean()\n",
    "std_mu = widom_data[:, -1].std() / np.sqrt(len(widom_data))"
   ]
  },
  {
   "cell_type": "code",
   "execution_count": 25,
   "id": "suspected-appointment",
   "metadata": {},
   "outputs": [
    {
     "name": "stdout",
     "output_type": "stream",
     "text": [
      "Average mu: 6.085462251351388\n",
      "std mu: 0.06677763878986574\n"
     ]
    }
   ],
   "source": [
    "print('Average mu:', average_mu)\n",
    "print('std mu:', std_mu)"
   ]
  },
  {
   "cell_type": "code",
   "execution_count": 26,
   "id": "collected-motion",
   "metadata": {},
   "outputs": [],
   "source": [
    "average_press = widom_data[:, -3].mean()\n",
    "std_press = widom_data[:, -3].std() / np.sqrt(len(widom_data))"
   ]
  },
  {
   "cell_type": "code",
   "execution_count": 27,
   "id": "empty-tourism",
   "metadata": {},
   "outputs": [
    {
     "name": "stdout",
     "output_type": "stream",
     "text": [
      "Average press: 2.143836588921108\n",
      "std press: 0.0016373774505317516\n"
     ]
    }
   ],
   "source": [
    "print('Average press:', average_press)\n",
    "print('std press:', std_press)"
   ]
  },
  {
   "cell_type": "markdown",
   "id": "stock-gallery",
   "metadata": {},
   "source": [
    "# The last part"
   ]
  },
  {
   "cell_type": "code",
   "execution_count": 101,
   "id": "representative-recipient",
   "metadata": {},
   "outputs": [],
   "source": [
    "data = np.loadtxt('output_main.txt', skiprows=1)"
   ]
  },
  {
   "cell_type": "code",
   "execution_count": 104,
   "id": "median-stocks",
   "metadata": {},
   "outputs": [
    {
     "data": {
      "image/png": "[encoded data removed]",
      "text/plain": [
       "<Figure size 432x288 with 1 Axes>"
      ]
     },
     "metadata": {
      "needs_background": "light"
     },
     "output_type": "display_data"
    }
   ],
   "source": [
    "plt.plot(data[:, 2], data[:, 3])\n",
    "plt.xlabel('Time', fontsize='17')\n",
    "plt.ylabel('Density', fontsize='17')\n",
    "plt.grid()"
   ]
  }
 ],
 "metadata": {
  "kernelspec": {
   "display_name": "Python 3 (ipykernel)",
   "language": "python",
   "name": "python3"
  },
  "language_info": {
   "codemirror_mode": {
    "name": "ipython",
    "version": 3
   },
   "file_extension": ".py",
   "mimetype": "text/x-python",
   "name": "python",
   "nbconvert_exporter": "python",
   "pygments_lexer": "ipython3",
   "version": "3.8.10"
  }
 },
 "nbformat": 4,
 "nbformat_minor": 5
}
