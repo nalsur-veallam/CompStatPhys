{
 "cells": [
  {
   "cell_type": "code",
   "execution_count": 1,
   "id": "34f2fd4b",
   "metadata": {},
   "outputs": [],
   "source": [
    "import csv\n",
    "import matplotlib.pyplot as plt\n",
    "import numpy as np\n",
    "from matplotlib.ticker import (MultipleLocator, FormatStrFormatter,\n",
    "                               AutoMinorLocator)\n",
    "props = dict(boxstyle='round', facecolor='wheat', alpha=0.7)\n",
    "\n",
    "%matplotlib inline"
   ]
  },
  {
   "cell_type": "code",
   "execution_count": 2,
   "id": "1f4b3978",
   "metadata": {},
   "outputs": [
    {
     "name": "stdout",
     "output_type": "stream",
     "text": [
      "./ti/ti_energy.1.log -8.671612013328366\n",
      "./ti/ti_energy.2.log -6.247894678707404\n",
      "./ti/ti_energy.3.log -3.0798783093547346\n",
      "./ti/ti_energy.4.log -0.6088846889631812\n",
      "./ti/ti_energy.5.log 0.6626364727527859\n",
      "./ti/ti_energy.6.log 1.0942792125006955\n",
      "./ti/ti_energy.7.log 1.0658425818145338\n",
      "./ti/ti_energy.8.log 0.8556400410161459\n",
      "./ti/ti_energy.9.log 0.6263413709702944\n",
      "./ti/ti_energy.10.log 0.42498470556790263\n",
      "./ti/ti_energy.11.log 0.29529402958231404\n",
      "./ti/ti_energy.12.log 0.21052378678685593\n",
      "./ti/ti_energy.13.log 0.13881237243426744\n",
      "./ti/ti_energy.14.log 0.08766861246360401\n",
      "./ti/ti_energy.15.log 0.05230413409037853\n"
     ]
    }
   ],
   "source": [
    "\n",
    "ens = []\n",
    "\n",
    "for i in range(1, 16):\n",
    "    name = './ti/ti_energy.' + str(i) + '.log'\n",
    "    arr = []\n",
    "    with open(name) as f:\n",
    "        for i, line in enumerate(f):\n",
    "            if i == 0: continue\n",
    "            #print(float(x) for x in coloumn.split())\n",
    "            try: arr.append(line.split())\n",
    "            except Exception as e:\n",
    "                print(e)\n",
    "                continue\n",
    "    en = []\n",
    "    for i in range(len(arr)):\n",
    "        en.append(float(arr[i][1]))\n",
    "    en = np.mean(np.array(en))\n",
    "    print(name, en)\n",
    "    ens.append(en)"
   ]
  },
  {
   "cell_type": "code",
   "execution_count": 3,
   "id": "d97a62ad",
   "metadata": {},
   "outputs": [],
   "source": [
    "c= 1e-5\n",
    "lambdaa_min = np.log(c)\n",
    "lambdaa_max =  np.log(1+c)"
   ]
  },
  {
   "cell_type": "code",
   "execution_count": 4,
   "id": "209b98ba",
   "metadata": {},
   "outputs": [],
   "source": [
    "x_i = np.array([-0.949107912342759,  -0.741531185599394, \n",
    "        -0.405845151377397, 0., 0.405845151377397, \n",
    "       0.741531185599394, 0.949107912342759])\n",
    "\n",
    "w_i = np.array([0.129, 0.279, 0.381, 0.417, 0.381, 0.279, 0.129\n",
    "               ])\n",
    "\n",
    "b =  1.\n",
    "a = 0.\n",
    "x_i = (x_i + 1.)/2.0*(b-a) + a\n",
    "w_i = w_i*(b-a)/2.0"
   ]
  },
  {
   "cell_type": "code",
   "execution_count": 5,
   "id": "a741d74c",
   "metadata": {},
   "outputs": [
    {
     "data": {
      "text/plain": [
       "[-11.21996680453379,\n",
       " -10.025058075025918,\n",
       " -8.09269225078949,\n",
       " -5.756457732510114,\n",
       " -3.420223214230738,\n",
       " -1.4878573899943106,\n",
       " -0.292948660486438]"
      ]
     },
     "execution_count": 5,
     "metadata": {},
     "output_type": "execute_result"
    }
   ],
   "source": [
    "lambdaa = [lambdaa_min + x*(lambdaa_max - lambdaa_min) for x in x_i]\n",
    "lambdaa"
   ]
  },
  {
   "cell_type": "code",
   "execution_count": 6,
   "id": "b78fa701",
   "metadata": {},
   "outputs": [
    {
     "data": {
      "image/png": "[encoded data removed]",
      "text/plain": [
       "<Figure size 432x288 with 1 Axes>"
      ]
     },
     "metadata": {
      "needs_background": "light"
     },
     "output_type": "display_data"
    },
    {
     "data": {
      "text/plain": [
       "[0.32083318207840017,\n",
       " 0.25117656275831424,\n",
       " 0.43189642251584714,\n",
       " 0.8438220718354811,\n",
       " 1.0789663691901512,\n",
       " -0.848489672464481,\n",
       " -7.324357697178874]"
      ]
     },
     "execution_count": 6,
     "metadata": {},
     "output_type": "execute_result"
    }
   ],
   "source": [
    "# integral = [np.exp(lambdaa[i])/(np.exp(lambdaa[i]) -  c)*ens[len(lambdaa)- 1 - i] for i in range(len(lambdaa))]\n",
    "\n",
    "integral = [\n",
    " 0.32083318207840017,\n",
    "\n",
    " 0.25117656275831424,\n",
    "\n",
    " 0.43189642251584714,\n",
    " \n",
    " 0.8438220718354811,\n",
    "\n",
    " 1.0789663691901512,\n",
    " \n",
    " -0.848489672464481,\n",
    " \n",
    " -7.324357697178874,\n",
    "]\n",
    "\n",
    "fig, (ax) = plt.subplots(1, 1)  # Create a figure containing a single axes.\n",
    "# fig.set_size_inches(18.5, 10.5)\n",
    "\n",
    "\n",
    "\n",
    "ax.plot( lambdaa, integral,'o-', label='Berensden' )  # Plot some data on the axes.\n",
    "# ax.plot(dff['llen'], dff['mc'],'o-', label='Monte-Carlo' )  # Plot some data on the axes.\n",
    "# z1 = np.polyfit(dff['llen'], dff['ber'], 1)\n",
    "# f3 = np.poly1d(z3)\n",
    "# name1 = ' Langeven = %g' % round(z1[0], 3)\n",
    "# print(name1)\n",
    "# ax.text(3, 0.04, name1, fontsize = 25, bbox=props)\n",
    "\n",
    "# f1 = np.poly1d(z1)\n",
    "# ax.plot(Ts, f1(Ts), '--')\n",
    "\n",
    "# ax.plot(Ts, np.+++(d_Es_nh)*(len(d_Es_nh)-1)**0.5/student,'o-', label='D energy Noze-Hoover' )  # Plot some data on the axes.\n",
    "# ax.plot(Ts, np.array(d_Es_lang)*(len(d_Es_lang)-1)**0.5/student,'o-', label='D energy Langeven' )  # Plot some data on the axes.\n",
    "# ax.plot(Ts, np.array(d_Es_ber)*(len(d_Es_ber)-1)**0.5/student,'o-', label='D energy Berensden' )  # Plot some data on the axes.\n",
    "\n",
    "# ax.plot(range(100), kin,'.-', label =' kinetic energy')\n",
    "ax.set_xlabel('lambda')  # Add an x-label to the axes.\n",
    "ax.set_ylabel('dU/d lambda')  # Add a y-label to the axes.\n",
    "# ax.set_title(\"Energies\")\n",
    "ax.grid(color='black', linestyle='--')\n",
    "# ax.legend()  # Add a legend.\n",
    "plt.show()\n",
    "\n",
    "integral"
   ]
  },
  {
   "cell_type": "code",
   "execution_count": 7,
   "id": "0d08c161",
   "metadata": {},
   "outputs": [
    {
     "data": {
      "text/plain": [
       "-0.07129624623030034"
      ]
     },
     "execution_count": 7,
     "metadata": {},
     "output_type": "execute_result"
    }
   ],
   "source": [
    "np.array(integral).dot(w_i)"
   ]
  },
  {
   "cell_type": "code",
   "execution_count": 8,
   "id": "76d69605",
   "metadata": {},
   "outputs": [
    {
     "data": {
      "text/plain": [
       "5.19927042590862"
      ]
     },
     "execution_count": 8,
     "metadata": {},
     "output_type": "execute_result"
    }
   ],
   "source": [
    "abs((200*(-0.071296 + 0.05629)))**1.5"
   ]
  },
  {
   "cell_type": "code",
   "execution_count": null,
   "id": "37cdd281",
   "metadata": {},
   "outputs": [],
   "source": []
  },
  {
   "cell_type": "code",
   "execution_count": null,
   "id": "d70c6155",
   "metadata": {},
   "outputs": [],
   "source": []
  }
 ],
 "metadata": {
  "kernelspec": {
   "display_name": "Python 3 (ipykernel)",
   "language": "python",
   "name": "python3"
  },
  "language_info": {
   "codemirror_mode": {
    "name": "ipython",
    "version": 3
   },
   "file_extension": ".py",
   "mimetype": "text/x-python",
   "name": "python",
   "nbconvert_exporter": "python",
   "pygments_lexer": "ipython3",
   "version": "3.8.10"
  }
 },
 "nbformat": 4,
 "nbformat_minor": 5
}
