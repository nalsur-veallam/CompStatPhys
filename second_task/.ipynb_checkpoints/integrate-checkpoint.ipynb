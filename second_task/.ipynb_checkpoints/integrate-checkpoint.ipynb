{
 "cells": [
  {
   "cell_type": "code",
   "execution_count": 1,
   "id": "2bd515f2",
   "metadata": {},
   "outputs": [],
   "source": [
    "import csv\n",
    "import matplotlib.pyplot as plt\n",
    "import numpy as np\n",
    "from matplotlib.ticker import (MultipleLocator, FormatStrFormatter,\n",
    "                               AutoMinorLocator)\n",
    "props = dict(boxstyle='round', facecolor='wheat', alpha=0.7)\n",
    "\n",
    "%matplotlib inline"
   ]
  },
  {
   "cell_type": "code",
   "execution_count": 2,
   "id": "35a3a82c",
   "metadata": {},
   "outputs": [
    {
     "name": "stdout",
     "output_type": "stream",
     "text": [
      "./ti/ti_energy.1.log -10.046155463175262\n",
      "./ti/ti_energy.2.log -7.324259523394501\n",
      "./ti/ti_energy.3.log -3.619204077595184\n",
      "./ti/ti_energy.4.log -0.8484521047465076\n",
      "./ti/ti_energy.5.log 0.5848457328500084\n",
      "./ti/ti_energy.6.log 1.0786364618510211\n",
      "./ti/ti_energy.7.log 1.095581053969685\n",
      "./ti/ti_energy.8.log 0.841153685490457\n",
      "./ti/ti_energy.9.log 0.6329437240316557\n",
      "./ti/ti_energy.10.log 0.41777133344913014\n",
      "./ti/ti_energy.11.log 0.28973506103783303\n",
      "./ti/ti_energy.12.log 0.19444738148900886\n",
      "./ti/ti_energy.13.log 0.13352777890127288\n",
      "./ti/ti_energy.14.log 0.08147463000401735\n",
      "./ti/ti_energy.15.log 0.052182807715218084\n"
     ]
    }
   ],
   "source": [
    "\n",
    "ens = []\n",
    "\n",
    "for i in range(1, 16):\n",
    "    name = './ti/ti_energy.' + str(i) + '.log'\n",
    "    arr = []\n",
    "    with open(name) as f:\n",
    "        for i, line in enumerate(f):\n",
    "            if i == 0: continue\n",
    "            #print(float(x) for x in coloumn.split())\n",
    "            try: arr.append(line.split())\n",
    "            except Exception as e:\n",
    "                print(e)\n",
    "                continue\n",
    "    en = []\n",
    "    for i in range(len(arr)):\n",
    "        en.append(float(arr[i][1]))\n",
    "    en = np.mean(np.array(en))\n",
    "    print(name, en)\n",
    "    ens.append(en)"
   ]
  },
  {
   "cell_type": "code",
   "execution_count": 28,
   "id": "60b4f9b5",
   "metadata": {},
   "outputs": [
    {
     "data": {
      "text/plain": [
       "15"
      ]
     },
     "execution_count": 28,
     "metadata": {},
     "output_type": "execute_result"
    }
   ],
   "source": [
    "len(ens)"
   ]
  },
  {
   "cell_type": "code",
   "execution_count": 25,
   "id": "48b176a3",
   "metadata": {},
   "outputs": [
    {
     "data": {
      "image/png": "[encoded data removed]",
      "text/plain": [
       "<Figure size 432x288 with 1 Axes>"
      ]
     },
     "metadata": {
      "needs_background": "light"
     },
     "output_type": "display_data"
    }
   ],
   "source": [
    "fig, (ax) = plt.subplots(1, 1)  # Create a figure containing a single axes.\n",
    "# fig.set_size_inches(18.5, 10.5)\n",
    "\n",
    "\n",
    "\n",
    "ax.plot( lambdaa, ens,'o-', label='Berensden' )  # Plot some data on the axes.\n",
    "# ax.plot(dff['llen'], dff['mc'],'o-', label='Monte-Carlo' )  # Plot some data on the axes.\n",
    "# z1 = np.polyfit(dff['llen'], dff['ber'], 1)\n",
    "# f3 = np.poly1d(z3)\n",
    "# name1 = ' Langeven = %g' % round(z1[0], 3)\n",
    "# print(name1)\n",
    "# ax.text(3, 0.04, name1, fontsize = 25, bbox=props)\n",
    "\n",
    "# f1 = np.poly1d(z1)\n",
    "# ax.plot(Ts, f1(Ts), '--')\n",
    "\n",
    "# ax.plot(Ts, np.+++(d_Es_nh)*(len(d_Es_nh)-1)**0.5/student,'o-', label='D energy Noze-Hoover' )  # Plot some data on the axes.\n",
    "# ax.plot(Ts, np.array(d_Es_lang)*(len(d_Es_lang)-1)**0.5/student,'o-', label='D energy Langeven' )  # Plot some data on the axes.\n",
    "# ax.plot(Ts, np.array(d_Es_ber)*(len(d_Es_ber)-1)**0.5/student,'o-', label='D energy Berensden' )  # Plot some data on the axes.\n",
    "\n",
    "# ax.plot(range(100), kin,'.-', label =' kinetic energy')\n",
    "ax.set_xlabel('lambda')  # Add an x-label to the axes.\n",
    "ax.set_ylabel('energy')  # Add a y-label to the axes.\n",
    "# ax.set_title(\"Energies\")\n",
    "ax.grid(color='black', linestyle='--')\n",
    "# ax.legend()  # Add a legend.\n",
    "plt.show()"
   ]
  },
  {
   "cell_type": "code",
   "execution_count": 3,
   "id": "8c34e173",
   "metadata": {},
   "outputs": [],
   "source": [
    "c= 1e-5\n",
    "lambdaa_min = np.log(c)\n",
    "lambdaa_max =  np.log(1+c)"
   ]
  },
  {
   "cell_type": "code",
   "execution_count": 10,
   "id": "cafd3c8d",
   "metadata": {},
   "outputs": [
    {
     "data": {
      "text/plain": [
       "9.999950000398841e-06"
      ]
     },
     "execution_count": 10,
     "metadata": {},
     "output_type": "execute_result"
    }
   ],
   "source": [
    "lambdaa_max"
   ]
  },
  {
   "cell_type": "code",
   "execution_count": 4,
   "id": "d49e908a",
   "metadata": {},
   "outputs": [
    {
     "data": {
      "text/plain": [
       "-11.512915465020228"
      ]
     },
     "execution_count": 4,
     "metadata": {},
     "output_type": "execute_result"
    }
   ],
   "source": [
    "lambdaa_min + lambdaa_max"
   ]
  },
  {
   "cell_type": "code",
   "execution_count": 27,
   "id": "1149905a",
   "metadata": {},
   "outputs": [],
   "source": [
    "x_i = np.array([-0.991455371120813, -0.949107912342759, -0.864864423359769, -0.741531185599394, \n",
    "       -0.586087235467691, -0.405845151377397, -0.207784955007898, 0., 0.207784955007898,  0.405845151377397,  0.586087235467691,\n",
    "       0.741531185599394, 0.864864423359769, 0.949107912342759, 0.991455371120813])\n",
    "\n",
    "w_i = np.array([0.02293, 0.06309, 0.10479, 0.14065, 0.16900, 0.19035, 0.20443, \n",
    "                0.20948,\n",
    "               0.20443, 0.19035,0.16900, 0.14065,0.10479,0.06309,0.02293\n",
    "               ])\n",
    "\n",
    "b =  1.\n",
    "a = 0.\n",
    "x_i = (x_i + 1.)/2.0*(b-a) + a\n",
    "w_i = w_i*(b-a)/2.0"
   ]
  },
  {
   "cell_type": "code",
   "execution_count": 11,
   "id": "e5037647",
   "metadata": {
    "scrolled": false
   },
   "outputs": [
    {
     "data": {
      "text/plain": [
       "[-11.46373858454134,\n",
       " -11.21996680453379,\n",
       " -10.735021878533349,\n",
       " -10.025058075025918,\n",
       " -9.13024999188663,\n",
       " -8.09269225078949,\n",
       " -6.952565121303756,\n",
       " -5.756457732510114,\n",
       " -4.560350343716472,\n",
       " -3.420223214230738,\n",
       " -2.3826654731335974,\n",
       " -1.4878573899943106,\n",
       " -0.777893586486881,\n",
       " -0.292948660486438,\n",
       " -0.04917688047888724]"
      ]
     },
     "execution_count": 11,
     "metadata": {},
     "output_type": "execute_result"
    }
   ],
   "source": [
    "lambdaa = [lambdaa_min + x*(lambdaa_max - lambdaa_min) for x in x_i]\n",
    "lambdaa"
   ]
  },
  {
   "cell_type": "code",
   "execution_count": 21,
   "id": "41b3ed8c",
   "metadata": {},
   "outputs": [
    {
     "data": {
      "text/plain": [
       "[1.0872143606051878,\n",
       " 0.32083318207840017,\n",
       " 0.2469846139300974,\n",
       " 0.25117656275831424,\n",
       " 0.3191980960672684,\n",
       " 0.43189642251584714,\n",
       " 0.6396331932594825,\n",
       " 0.8438220718354811,\n",
       " 1.0966296180129096,\n",
       " 1.0789663691901512,\n",
       " 0.5849091003897171,\n",
       " -0.848489672464481,\n",
       " -3.619282865113092,\n",
       " -7.324357697178874,\n",
       " -10.046260989716599]"
      ]
     },
     "execution_count": 21,
     "metadata": {},
     "output_type": "execute_result"
    }
   ],
   "source": [
    "integral = [np.exp(lambdaa[i])/(np.exp(lambdaa[i]) -  c)*ens[len(lambdaa)- 1 - i] for i in range(len(lambdaa))]\n",
    "integral"
   ]
  },
  {
   "cell_type": "code",
   "execution_count": 26,
   "id": "84b0294e",
   "metadata": {},
   "outputs": [
    {
     "data": {
      "image/png": "[encoded data removed]",
      "text/plain": [
       "<Figure size 432x288 with 1 Axes>"
      ]
     },
     "metadata": {
      "needs_background": "light"
     },
     "output_type": "display_data"
    }
   ],
   "source": [
    "fig, (ax) = plt.subplots(1, 1)  # Create a figure containing a single axes.\n",
    "# fig.set_size_inches(18.5, 10.5)\n",
    "\n",
    "\n",
    "\n",
    "ax.plot( lambdaa, integral,'o-', label='Berensden' )  # Plot some data on the axes.\n",
    "# ax.plot(dff['llen'], dff['mc'],'o-', label='Monte-Carlo' )  # Plot some data on the axes.\n",
    "# z1 = np.polyfit(dff['llen'], dff['ber'], 1)\n",
    "# f3 = np.poly1d(z3)\n",
    "# name1 = ' Langeven = %g' % round(z1[0], 3)\n",
    "# print(name1)\n",
    "# ax.text(3, 0.04, name1, fontsize = 25, bbox=props)\n",
    "\n",
    "# f1 = np.poly1d(z1)\n",
    "# ax.plot(Ts, f1(Ts), '--')\n",
    "\n",
    "# ax.plot(Ts, np.+++(d_Es_nh)*(len(d_Es_nh)-1)**0.5/student,'o-', label='D energy Noze-Hoover' )  # Plot some data on the axes.\n",
    "# ax.plot(Ts, np.array(d_Es_lang)*(len(d_Es_lang)-1)**0.5/student,'o-', label='D energy Langeven' )  # Plot some data on the axes.\n",
    "# ax.plot(Ts, np.array(d_Es_ber)*(len(d_Es_ber)-1)**0.5/student,'o-', label='D energy Berensden' )  # Plot some data on the axes.\n",
    "\n",
    "# ax.plot(range(100), kin,'.-', label =' kinetic energy')\n",
    "ax.set_xlabel('lambda')  # Add an x-label to the axes.\n",
    "ax.set_ylabel('dU/d lambda')  # Add a y-label to the axes.\n",
    "# ax.set_title(\"Energies\")\n",
    "ax.grid(color='black', linestyle='--')\n",
    "# ax.legend()  # Add a legend.\n",
    "plt.show()"
   ]
  },
  {
   "cell_type": "code",
   "execution_count": 28,
   "id": "49a2e65b",
   "metadata": {},
   "outputs": [
    {
     "data": {
      "text/plain": [
       "-0.05629181038293647"
      ]
     },
     "execution_count": 28,
     "metadata": {},
     "output_type": "execute_result"
    }
   ],
   "source": [
    "np.array(integral).dot(w_i)"
   ]
  },
  {
   "cell_type": "code",
   "execution_count": 18,
   "id": "a9967bb2",
   "metadata": {},
   "outputs": [],
   "source": [
    "C = 10**(-5)\n",
    "\n",
    "#15-точечное правило Кронрода\n",
    "points_kronrod = np.array([\n",
    "            0.99572, \n",
    "            0.97455, \n",
    "            0.93243,\n",
    "            0.87076,\n",
    "            0.79304,\n",
    "            0.70292,\n",
    "            0.60389,\n",
    "            0.5,\n",
    "            0.39610,\n",
    "            0.29707,\n",
    "            0.20695,\n",
    "            0.12923,\n",
    "            0.06756,\n",
    "            0.025446,\n",
    "            0.004272])\n",
    "\n",
    "# Перемасшабировка точек на отрезок [lnC, ln(1 + C)]\n",
    "\n",
    "lambda_kronrod = np.log(C) + points_kronrod * (np.log(1 + C) - np.log(C))"
   ]
  },
  {
   "cell_type": "code",
   "execution_count": 19,
   "id": "99a20215",
   "metadata": {},
   "outputs": [
    {
     "data": {
      "text/plain": [
       "array([ -0.04926536,  -0.29299421,  -0.77791905,  -1.48792178,\n",
       "        -2.38270712,  -3.42025287,  -4.56037887,  -5.75645773,\n",
       "        -6.95265173,  -8.09277773,  -9.13032347, -10.02510881,\n",
       "       -10.73511154, -11.21996731, -11.4637422 ])"
      ]
     },
     "execution_count": 19,
     "metadata": {},
     "output_type": "execute_result"
    }
   ],
   "source": [
    "lambda_kronrod"
   ]
  },
  {
   "cell_type": "code",
   "execution_count": 15,
   "id": "c39d14ec",
   "metadata": {},
   "outputs": [
    {
     "ename": "SyntaxError",
     "evalue": "invalid syntax (3368035196.py, line 2)",
     "output_type": "error",
     "traceback": [
      "\u001b[0;36m  Input \u001b[0;32mIn [15]\u001b[0;36m\u001b[0m\n\u001b[0;31m    for i\u001b[0m\n\u001b[0m         ^\u001b[0m\n\u001b[0;31mSyntaxError\u001b[0m\u001b[0;31m:\u001b[0m invalid syntax\n"
     ]
    }
   ],
   "source": [
    "arr  = []\n",
    "for i"
   ]
  },
  {
   "cell_type": "code",
   "execution_count": null,
   "id": "5be00e7e",
   "metadata": {},
   "outputs": [],
   "source": []
  },
  {
   "cell_type": "code",
   "execution_count": 31,
   "id": "0cc4eafc",
   "metadata": {},
   "outputs": [
    {
     "name": "stdout",
     "output_type": "stream",
     "text": [
      "10000\n"
     ]
    }
   ],
   "source": [
    "name = 'fluid_widom_main.log'\n",
    "arr = []\n",
    "with open(name) as f:\n",
    "    for i, line in enumerate(f):\n",
    "        if i < 6 or i > 10005: continue\n",
    "        #print(float(x) for x in coloumn.split())\n",
    "        try: arr.append(line.split())\n",
    "        except Exception as e:\n",
    "            print(e)\n",
    "            continue\n",
    "print(len(arr))\n",
    "p = []\n",
    "mu = []\n",
    "for i in range(len(arr)):\n",
    "    p.append(float(arr[i][6])) #8\n",
    "    mu.append(float(arr[i][8]))\n",
    "# p = np.mean(np.array(p))\n",
    "# mu = np.mean(np.array(mu))\n",
    "# print(name, p)\n",
    "# print(name, mu)"
   ]
  },
  {
   "cell_type": "code",
   "execution_count": 35,
   "id": "a122aadb",
   "metadata": {},
   "outputs": [
    {
     "data": {
      "text/plain": [
       "0.04642590821892805"
      ]
     },
     "execution_count": 35,
     "metadata": {},
     "output_type": "execute_result"
    }
   ],
   "source": [
    "np.std(mu)/((10000-1)**0.5)"
   ]
  },
  {
   "cell_type": "code",
   "execution_count": 34,
   "id": "94c5aff8",
   "metadata": {},
   "outputs": [
    {
     "data": {
      "text/plain": [
       "10000"
      ]
     },
     "execution_count": 34,
     "metadata": {},
     "output_type": "execute_result"
    }
   ],
   "source": [
    "len(mu)"
   ]
  },
  {
   "cell_type": "code",
   "execution_count": null,
   "id": "7bb7fd8c",
   "metadata": {},
   "outputs": [],
   "source": [
    "mu"
   ]
  }
 ],
 "metadata": {
  "kernelspec": {
   "display_name": "Python 3 (ipykernel)",
   "language": "python",
   "name": "python3"
  },
  "language_info": {
   "codemirror_mode": {
    "name": "ipython",
    "version": 3
   },
   "file_extension": ".py",
   "mimetype": "text/x-python",
   "name": "python",
   "nbconvert_exporter": "python",
   "pygments_lexer": "ipython3",
   "version": "3.8.10"
  }
 },
 "nbformat": 4,
 "nbformat_minor": 5
}
